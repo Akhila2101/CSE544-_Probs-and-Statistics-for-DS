{
  "nbformat": 4,
  "nbformat_minor": 0,
  "metadata": {
    "colab": {
      "name": "A6Q6.ipynb",
      "provenance": []
    },
    "kernelspec": {
      "name": "python3",
      "display_name": "Python 3"
    },
    "language_info": {
      "name": "python"
    }
  },
  "cells": [
    {
      "cell_type": "markdown",
      "source": [
        "# 6 - B"
      ],
      "metadata": {
        "id": "8AFW8191Ct8z"
      }
    },
    {
      "cell_type": "code",
      "source": [
        "import pandas as pd\n",
        "import numpy as np\n",
        "import matplotlib.pyplot as plt\n",
        "import random"
      ],
      "metadata": {
        "id": "gtWSKVjrC0FB"
      },
      "execution_count": null,
      "outputs": []
    },
    {
      "cell_type": "code",
      "source": [
        "def map_decision(w, p):\n",
        "  mu=0.5\n",
        "  sigma_square=1\n",
        "  s=sum(w)\n",
        "  return 0 if s< np.log(p/(1-p))*(sigma_square/(2*mu)) else 1"
      ],
      "metadata": {
        "id": "XOLonEW4C0MA"
      },
      "execution_count": null,
      "outputs": []
    },
    {
      "cell_type": "code",
      "source": [
        "data=pd.read_csv(\"/content/q6.csv\",header=None)"
      ],
      "metadata": {
        "id": "wBKfv4DZC0aF"
      },
      "execution_count": null,
      "outputs": []
    },
    {
      "cell_type": "code",
      "source": [
        "data=[list(data.loc[i]) for i in range(len(data))]"
      ],
      "metadata": {
        "id": "KISb_0j4C0cq"
      },
      "execution_count": null,
      "outputs": []
    },
    {
      "cell_type": "code",
      "source": [
        "len(data)"
      ],
      "metadata": {
        "colab": {
          "base_uri": "https://localhost:8080/"
        },
        "id": "q_YK-6sCSRAA",
        "outputId": "4ecaf3c1-860a-4bda-dc4c-0e303e2197ae"
      },
      "execution_count": null,
      "outputs": [
        {
          "output_type": "execute_result",
          "data": {
            "text/plain": [
              "500"
            ]
          },
          "metadata": {},
          "execution_count": 24
        }
      ]
    },
    {
      "cell_type": "code",
      "source": [
        "p=[0.1,0.3,0.5,0.8]\n",
        "idx=random.sample(range(len(data)),10)\n",
        "for prob in p:\n",
        "  print(\"For P(𝐻0) = {}, the hypotheses selected are ::\".format(str(prob)),end=\" \")\n",
        "  for index in idx:\n",
        "    print(map_decision(data[index],prob),end=\" \")\n",
        "  print()\n"
      ],
      "metadata": {
        "colab": {
          "base_uri": "https://localhost:8080/"
        },
        "id": "YzFBrNcASX48",
        "outputId": "e9dda353-4bd0-4a2b-fb9a-258aaa2686e3"
      },
      "execution_count": null,
      "outputs": [
        {
          "output_type": "stream",
          "name": "stdout",
          "text": [
            "For P(𝐻0) = 0.1, the hypotheses selected are :: 0 1 0 1 1 1 0 1 1 1 \n",
            "For P(𝐻0) = 0.3, the hypotheses selected are :: 0 1 0 1 1 1 0 0 1 1 \n",
            "For P(𝐻0) = 0.5, the hypotheses selected are :: 0 0 0 1 0 1 0 0 1 0 \n",
            "For P(𝐻0) = 0.8, the hypotheses selected are :: 0 0 0 1 0 0 0 0 0 0 \n"
          ]
        }
      ]
    },
    {
      "cell_type": "code",
      "source": [
        ""
      ],
      "metadata": {
        "id": "xMGB3nFNUrp4"
      },
      "execution_count": null,
      "outputs": []
    }
  ]
}