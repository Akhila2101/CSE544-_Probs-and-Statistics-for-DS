{
  "nbformat": 4,
  "nbformat_minor": 0,
  "metadata": {
    "colab": {
      "name": "Untitled0.ipynb",
      "provenance": [],
      "collapsed_sections": []
    },
    "kernelspec": {
      "name": "python3",
      "display_name": "Python 3"
    },
    "language_info": {
      "name": "python"
    }
  },
  "cells": [
    {
      "cell_type": "code",
      "execution_count": 145,
      "metadata": {
        "id": "EQJ8TDLEf1Wt"
      },
      "outputs": [],
      "source": [
        "import pandas as pd\n",
        "stock = pd.read_csv('/content/q4.csv')\n",
        "data=stock"
      ]
    },
    {
      "cell_type": "code",
      "source": [
        "import numpy as np\n",
        "import pandas as pd\n",
        "import matplotlib.pyplot as plt"
      ],
      "metadata": {
        "id": "cH1b_B4ohCs0"
      },
      "execution_count": null,
      "outputs": []
    },
    {
      "cell_type": "code",
      "source": [
        "data=pd.DataFrame(data)\n",
        "data=data.rename(columns={\"Date\": \"X\", \"Value\": \"Y\"})\n"
      ],
      "metadata": {
        "id": "39fBOhMWhCwc"
      },
      "execution_count": 146,
      "outputs": []
    },
    {
      "cell_type": "markdown",
      "source": [
        "**4.a Using the complete dataset, perform simple linear regression (time vs. stock price, including β0 term), plot the original data and the regression fit, and report the SSE.**"
      ],
      "metadata": {
        "id": "2tuALlFvNnUw"
      }
    },
    {
      "cell_type": "code",
      "source": [
        "time = []\n",
        "temp = 1\n",
        "for i in range(len(data)):\n",
        "    if i>1:\n",
        "      time.append(temp)\n",
        "      d=pd.Timestamp(data.values[i][0])-pd.Timestamp(data.values[i-1][0])\n",
        "      temp += d.days\n",
        "    else:\n",
        "      time.append(temp)\n",
        "      temp += 1\n"
      ],
      "metadata": {
        "id": "kaLb8WGNmFBH"
      },
      "execution_count": 147,
      "outputs": []
    },
    {
      "cell_type": "code",
      "source": [
        ""
      ],
      "metadata": {
        "id": "ZJG5UoBLrz3h"
      },
      "execution_count": null,
      "outputs": []
    },
    {
      "cell_type": "code",
      "source": [
        "data['X'] = time"
      ],
      "metadata": {
        "id": "Ndkz8cgfhCyx",
        "colab": {
          "base_uri": "https://localhost:8080/"
        },
        "outputId": "b8c95442-26d3-4075-e556-dee3ea773367"
      },
      "execution_count": 150,
      "outputs": [
        {
          "output_type": "execute_result",
          "data": {
            "text/plain": [
              "3575.0"
            ]
          },
          "metadata": {},
          "execution_count": 150
        }
      ]
    },
    {
      "cell_type": "code",
      "source": [
        "data1 = np.array_split(data, 1)"
      ],
      "metadata": {
        "id": "7L4wP-uWhC03"
      },
      "execution_count": null,
      "outputs": []
    },
    {
      "cell_type": "code",
      "source": [
        "def compute_B0_B1(X, Y):\n",
        "    B0 = 0\n",
        "    B1 = 1\n",
        "\n",
        "    XY = np.sum(X * Y)\n",
        "    X_2 = np.sum(X * X)\n",
        "    X_mean = np.mean(X)\n",
        "    Y_mean = np.mean(Y)\n",
        "\n",
        "    B1 = (XY - (len(X) * X_mean * Y_mean)) / (X_2 - (len(X) * X_mean * X_mean))\n",
        "    B0 = Y_mean - (B1 * X_mean)\n",
        "\n",
        "    return B0, B1"
      ],
      "metadata": {
        "id": "rbX4D0FRhC26"
      },
      "execution_count": null,
      "outputs": []
    },
    {
      "cell_type": "code",
      "source": [
        "b0_b1 = []\n",
        "a, b = compute_B0_B1(data1[0]['X'], data1[0]['Y'])\n",
        "b0_b1.append((a, b))"
      ],
      "metadata": {
        "id": "biCaNZAphC5C"
      },
      "execution_count": null,
      "outputs": []
    },
    {
      "cell_type": "code",
      "source": [
        "b0_b1"
      ],
      "metadata": {
        "colab": {
          "base_uri": "https://localhost:8080/"
        },
        "id": "w4768GplnilF",
        "outputId": "bb3d9503-63fd-454f-ed5a-0fe9be2eb89b"
      },
      "execution_count": null,
      "outputs": [
        {
          "output_type": "execute_result",
          "data": {
            "text/plain": [
              "[(-444.59142184359234, 0.9316331559814438)]"
            ]
          },
          "metadata": {},
          "execution_count": 51
        }
      ]
    },
    {
      "cell_type": "code",
      "source": [
        "temp = b0_b1[0][0] + (b0_b1[0][1] * data1[0]['X'])\n",
        "data1[0]['YPred'] = temp\n",
        "\n",
        "plt.figure(figsize=(15, 8))\n",
        "plt.plot(data1[0]['X'].values, data1[0]['Y'].values, label = \"Original data points for partition \");\n",
        "plt.plot(data1[0]['X'].values, data1[0]['YPred'].values)\n",
        "plt.ylabel(\"Amazon Stock Price\")\n",
        "plt.xlabel('Time(Days)')\n",
        "plt.title(\"Stock Price Vs Time\")\n",
        "plt.gca().legend(('Observed Values ', 'Regression Fit'))\n",
        "plt.grid()\n",
        "plt.show()\n",
        "\n",
        "\n",
        "sse1 = np.sum(np.square(data1[0]['Y'] - data1[0]['YPred']))\n",
        "print(\"SSE for Data \" + \": \" + str(sse1))"
      ],
      "metadata": {
        "colab": {
          "base_uri": "https://localhost:8080/",
          "height": 531
        },
        "id": "-MPZ8Vy5nlXI",
        "outputId": "627f5e47-0cc1-4d78-f73f-973af711dc4e"
      },
      "execution_count": 167,
      "outputs": [
        {
          "output_type": "display_data",
          "data": {
            "text/plain": [
              "<Figure size 1080x576 with 1 Axes>"
            ],
            "image/png": "[encoded data removed]"
          },
          "metadata": {
            "needs_background": "light"
          }
        },
        {
          "output_type": "stream",
          "name": "stdout",
          "text": [
            "SSE for Data : 376136961.7729423\n"
          ]
        }
      ]
    },
    {
      "cell_type": "code",
      "source": [
        "print(\"SSE for Data \" + \": \" + str(sse1))"
      ],
      "metadata": {
        "id": "8tYCz95LrxiH",
        "colab": {
          "base_uri": "https://localhost:8080/"
        },
        "outputId": "0ec3803a-1679-4caa-b9f0-0a538121ca8b"
      },
      "execution_count": 169,
      "outputs": [
        {
          "output_type": "stream",
          "name": "stdout",
          "text": [
            "SSE for Data : 376136961.7729423\n"
          ]
        }
      ]
    },
    {
      "cell_type": "markdown",
      "source": [
        "**4.b Using the data from 17 Jan 2012 to 31 Jan 2020, predict the stock price on 1st November 2021 using simple linear regression. How much is the percentage difference between the prediction and the real value? Show the prediction result and the SSE. Plot the original data and the regression fit.**"
      ],
      "metadata": {
        "id": "uJuANkSzS_IG"
      }
    },
    {
      "cell_type": "code",
      "source": [
        "stock[\"Date\"]=pd.to_datetime(stock['Date'])\n",
        "stock"
      ],
      "metadata": {
        "colab": {
          "base_uri": "https://localhost:8080/",
          "height": 424
        },
        "id": "E968SVDgTBy7",
        "outputId": "14b58aff-8e58-4b7b-a208-d99c204b871a"
      },
      "execution_count": 152,
      "outputs": [
        {
          "output_type": "execute_result",
          "data": {
            "text/plain": [
              "           Date        Value\n",
              "0    2012-01-17   181.660004\n",
              "1    2012-01-18   189.440002\n",
              "2    2012-01-19   194.449997\n",
              "3    2012-01-20   190.929993\n",
              "4    2012-01-23   186.089996\n",
              "...         ...          ...\n",
              "2503 2021-12-27  3393.389893\n",
              "2504 2021-12-28  3413.219971\n",
              "2505 2021-12-29  3384.020020\n",
              "2506 2021-12-30  3372.889893\n",
              "2507 2021-12-31  3334.340088\n",
              "\n",
              "[2508 rows x 2 columns]"
            ],
            "text/html": [
              "\n",
              "  <div id=\"df-dc25fd9a-3896-456d-9647-0b33319c2637\">\n",
              "    <div class=\"colab-df-container\">\n",
              "      <div>\n",
              "<style scoped>\n",
              "    .dataframe tbody tr th:only-of-type {\n",
              "        vertical-align: middle;\n",
              "    }\n",
              "\n",
              "    .dataframe tbody tr th {\n",
              "        vertical-align: top;\n",
              "    }\n",
              "\n",
              "    .dataframe thead th {\n",
              "        text-align: right;\n",
              "    }\n",
              "</style>\n",
              "<table border=\"1\" class=\"dataframe\">\n",
              "  <thead>\n",
              "    <tr style=\"text-align: right;\">\n",
              "      <th></th>\n",
              "      <th>Date</th>\n",
              "      <th>Value</th>\n",
              "    </tr>\n",
              "  </thead>\n",
              "  <tbody>\n",
              "    <tr>\n",
              "      <th>0</th>\n",
              "      <td>2012-01-17</td>\n",
              "      <td>181.660004</td>\n",
              "    </tr>\n",
              "    <tr>\n",
              "      <th>1</th>\n",
              "      <td>2012-01-18</td>\n",
              "      <td>189.440002</td>\n",
              "    </tr>\n",
              "    <tr>\n",
              "      <th>2</th>\n",
              "      <td>2012-01-19</td>\n",
              "      <td>194.449997</td>\n",
              "    </tr>\n",
              "    <tr>\n",
              "      <th>3</th>\n",
              "      <td>2012-01-20</td>\n",
              "      <td>190.929993</td>\n",
              "    </tr>\n",
              "    <tr>\n",
              "      <th>4</th>\n",
              "      <td>2012-01-23</td>\n",
              "      <td>186.089996</td>\n",
              "    </tr>\n",
              "    <tr>\n",
              "      <th>...</th>\n",
              "      <td>...</td>\n",
              "      <td>...</td>\n",
              "    </tr>\n",
              "    <tr>\n",
              "      <th>2503</th>\n",
              "      <td>2021-12-27</td>\n",
              "      <td>3393.389893</td>\n",
              "    </tr>\n",
              "    <tr>\n",
              "      <th>2504</th>\n",
              "      <td>2021-12-28</td>\n",
              "      <td>3413.219971</td>\n",
              "    </tr>\n",
              "    <tr>\n",
              "      <th>2505</th>\n",
              "      <td>2021-12-29</td>\n",
              "      <td>3384.020020</td>\n",
              "    </tr>\n",
              "    <tr>\n",
              "      <th>2506</th>\n",
              "      <td>2021-12-30</td>\n",
              "      <td>3372.889893</td>\n",
              "    </tr>\n",
              "    <tr>\n",
              "      <th>2507</th>\n",
              "      <td>2021-12-31</td>\n",
              "      <td>3334.340088</td>\n",
              "    </tr>\n",
              "  </tbody>\n",
              "</table>\n",
              "<p>2508 rows × 2 columns</p>\n",
              "</div>\n",
              "      <button class=\"colab-df-convert\" onclick=\"convertToInteractive('df-dc25fd9a-3896-456d-9647-0b33319c2637')\"\n",
              "              title=\"Convert this dataframe to an interactive table.\"\n",
              "              style=\"display:none;\">\n",
              "        \n",
              "  <svg xmlns=\"http://www.w3.org/2000/svg\" height=\"24px\"viewBox=\"0 0 24 24\"\n",
              "       width=\"24px\">\n",
              "    <path d=\"M0 0h24v24H0V0z\" fill=\"none\"/>\n",
              "    <path d=\"M18.56 5.44l.94 2.06.94-2.06 2.06-.94-2.06-.94-.94-2.06-.94 2.06-2.06.94zm-11 1L8.5 8.5l.94-2.06 2.06-.94-2.06-.94L8.5 2.5l-.94 2.06-2.06.94zm10 10l.94 2.06.94-2.06 2.06-.94-2.06-.94-.94-2.06-.94 2.06-2.06.94z\"/><path d=\"M17.41 7.96l-1.37-1.37c-.4-.4-.92-.59-1.43-.59-.52 0-1.04.2-1.43.59L10.3 9.45l-7.72 7.72c-.78.78-.78 2.05 0 2.83L4 21.41c.39.39.9.59 1.41.59.51 0 1.02-.2 1.41-.59l7.78-7.78 2.81-2.81c.8-.78.8-2.07 0-2.86zM5.41 20L4 18.59l7.72-7.72 1.47 1.35L5.41 20z\"/>\n",
              "  </svg>\n",
              "      </button>\n",
              "      \n",
              "  <style>\n",
              "    .colab-df-container {\n",
              "      display:flex;\n",
              "      flex-wrap:wrap;\n",
              "      gap: 12px;\n",
              "    }\n",
              "\n",
              "    .colab-df-convert {\n",
              "      background-color: #E8F0FE;\n",
              "      border: none;\n",
              "      border-radius: 50%;\n",
              "      cursor: pointer;\n",
              "      display: none;\n",
              "      fill: #1967D2;\n",
              "      height: 32px;\n",
              "      padding: 0 0 0 0;\n",
              "      width: 32px;\n",
              "    }\n",
              "\n",
              "    .colab-df-convert:hover {\n",
              "      background-color: #E2EBFA;\n",
              "      box-shadow: 0px 1px 2px rgba(60, 64, 67, 0.3), 0px 1px 3px 1px rgba(60, 64, 67, 0.15);\n",
              "      fill: #174EA6;\n",
              "    }\n",
              "\n",
              "    [theme=dark] .colab-df-convert {\n",
              "      background-color: #3B4455;\n",
              "      fill: #D2E3FC;\n",
              "    }\n",
              "\n",
              "    [theme=dark] .colab-df-convert:hover {\n",
              "      background-color: #434B5C;\n",
              "      box-shadow: 0px 1px 3px 1px rgba(0, 0, 0, 0.15);\n",
              "      filter: drop-shadow(0px 1px 2px rgba(0, 0, 0, 0.3));\n",
              "      fill: #FFFFFF;\n",
              "    }\n",
              "  </style>\n",
              "\n",
              "      <script>\n",
              "        const buttonEl =\n",
              "          document.querySelector('#df-dc25fd9a-3896-456d-9647-0b33319c2637 button.colab-df-convert');\n",
              "        buttonEl.style.display =\n",
              "          google.colab.kernel.accessAllowed ? 'block' : 'none';\n",
              "\n",
              "        async function convertToInteractive(key) {\n",
              "          const element = document.querySelector('#df-dc25fd9a-3896-456d-9647-0b33319c2637');\n",
              "          const dataTable =\n",
              "            await google.colab.kernel.invokeFunction('convertToInteractive',\n",
              "                                                     [key], {});\n",
              "          if (!dataTable) return;\n",
              "\n",
              "          const docLinkHtml = 'Like what you see? Visit the ' +\n",
              "            '<a target=\"_blank\" href=https://colab.research.google.com/notebooks/data_table.ipynb>data table notebook</a>'\n",
              "            + ' to learn more about interactive tables.';\n",
              "          element.innerHTML = '';\n",
              "          dataTable['output_type'] = 'display_data';\n",
              "          await google.colab.output.renderOutput(dataTable, element);\n",
              "          const docLink = document.createElement('div');\n",
              "          docLink.innerHTML = docLinkHtml;\n",
              "          element.appendChild(docLink);\n",
              "        }\n",
              "      </script>\n",
              "    </div>\n",
              "  </div>\n",
              "  "
            ]
          },
          "metadata": {},
          "execution_count": 152
        }
      ]
    },
    {
      "cell_type": "code",
      "source": [
        "filter_date = ((stock['Date']>='2012-01-17') & (stock['Date']<='2020-1-31'))\n",
        "\n",
        "stock_fiter=pd.DataFrame(stock.loc[filter_date])\n",
        "stock_fiter"
      ],
      "metadata": {
        "colab": {
          "base_uri": "https://localhost:8080/",
          "height": 424
        },
        "id": "BUBxm--oYNPu",
        "outputId": "619b090b-624b-49a4-dc5c-220066dc9904"
      },
      "execution_count": 153,
      "outputs": [
        {
          "output_type": "execute_result",
          "data": {
            "text/plain": [
              "           Date        Value\n",
              "0    2012-01-17   181.660004\n",
              "1    2012-01-18   189.440002\n",
              "2    2012-01-19   194.449997\n",
              "3    2012-01-20   190.929993\n",
              "4    2012-01-23   186.089996\n",
              "...         ...          ...\n",
              "2019 2020-01-27  1828.339966\n",
              "2020 2020-01-28  1853.250000\n",
              "2021 2020-01-29  1858.000000\n",
              "2022 2020-01-30  1870.680054\n",
              "2023 2020-01-31  2008.719971\n",
              "\n",
              "[2024 rows x 2 columns]"
            ],
            "text/html": [
              "\n",
              "  <div id=\"df-0588048a-a7cc-46db-bc0e-bcb777999860\">\n",
              "    <div class=\"colab-df-container\">\n",
              "      <div>\n",
              "<style scoped>\n",
              "    .dataframe tbody tr th:only-of-type {\n",
              "        vertical-align: middle;\n",
              "    }\n",
              "\n",
              "    .dataframe tbody tr th {\n",
              "        vertical-align: top;\n",
              "    }\n",
              "\n",
              "    .dataframe thead th {\n",
              "        text-align: right;\n",
              "    }\n",
              "</style>\n",
              "<table border=\"1\" class=\"dataframe\">\n",
              "  <thead>\n",
              "    <tr style=\"text-align: right;\">\n",
              "      <th></th>\n",
              "      <th>Date</th>\n",
              "      <th>Value</th>\n",
              "    </tr>\n",
              "  </thead>\n",
              "  <tbody>\n",
              "    <tr>\n",
              "      <th>0</th>\n",
              "      <td>2012-01-17</td>\n",
              "      <td>181.660004</td>\n",
              "    </tr>\n",
              "    <tr>\n",
              "      <th>1</th>\n",
              "      <td>2012-01-18</td>\n",
              "      <td>189.440002</td>\n",
              "    </tr>\n",
              "    <tr>\n",
              "      <th>2</th>\n",
              "      <td>2012-01-19</td>\n",
              "      <td>194.449997</td>\n",
              "    </tr>\n",
              "    <tr>\n",
              "      <th>3</th>\n",
              "      <td>2012-01-20</td>\n",
              "      <td>190.929993</td>\n",
              "    </tr>\n",
              "    <tr>\n",
              "      <th>4</th>\n",
              "      <td>2012-01-23</td>\n",
              "      <td>186.089996</td>\n",
              "    </tr>\n",
              "    <tr>\n",
              "      <th>...</th>\n",
              "      <td>...</td>\n",
              "      <td>...</td>\n",
              "    </tr>\n",
              "    <tr>\n",
              "      <th>2019</th>\n",
              "      <td>2020-01-27</td>\n",
              "      <td>1828.339966</td>\n",
              "    </tr>\n",
              "    <tr>\n",
              "      <th>2020</th>\n",
              "      <td>2020-01-28</td>\n",
              "      <td>1853.250000</td>\n",
              "    </tr>\n",
              "    <tr>\n",
              "      <th>2021</th>\n",
              "      <td>2020-01-29</td>\n",
              "      <td>1858.000000</td>\n",
              "    </tr>\n",
              "    <tr>\n",
              "      <th>2022</th>\n",
              "      <td>2020-01-30</td>\n",
              "      <td>1870.680054</td>\n",
              "    </tr>\n",
              "    <tr>\n",
              "      <th>2023</th>\n",
              "      <td>2020-01-31</td>\n",
              "      <td>2008.719971</td>\n",
              "    </tr>\n",
              "  </tbody>\n",
              "</table>\n",
              "<p>2024 rows × 2 columns</p>\n",
              "</div>\n",
              "      <button class=\"colab-df-convert\" onclick=\"convertToInteractive('df-0588048a-a7cc-46db-bc0e-bcb777999860')\"\n",
              "              title=\"Convert this dataframe to an interactive table.\"\n",
              "              style=\"display:none;\">\n",
              "        \n",
              "  <svg xmlns=\"http://www.w3.org/2000/svg\" height=\"24px\"viewBox=\"0 0 24 24\"\n",
              "       width=\"24px\">\n",
              "    <path d=\"M0 0h24v24H0V0z\" fill=\"none\"/>\n",
              "    <path d=\"M18.56 5.44l.94 2.06.94-2.06 2.06-.94-2.06-.94-.94-2.06-.94 2.06-2.06.94zm-11 1L8.5 8.5l.94-2.06 2.06-.94-2.06-.94L8.5 2.5l-.94 2.06-2.06.94zm10 10l.94 2.06.94-2.06 2.06-.94-2.06-.94-.94-2.06-.94 2.06-2.06.94z\"/><path d=\"M17.41 7.96l-1.37-1.37c-.4-.4-.92-.59-1.43-.59-.52 0-1.04.2-1.43.59L10.3 9.45l-7.72 7.72c-.78.78-.78 2.05 0 2.83L4 21.41c.39.39.9.59 1.41.59.51 0 1.02-.2 1.41-.59l7.78-7.78 2.81-2.81c.8-.78.8-2.07 0-2.86zM5.41 20L4 18.59l7.72-7.72 1.47 1.35L5.41 20z\"/>\n",
              "  </svg>\n",
              "      </button>\n",
              "      \n",
              "  <style>\n",
              "    .colab-df-container {\n",
              "      display:flex;\n",
              "      flex-wrap:wrap;\n",
              "      gap: 12px;\n",
              "    }\n",
              "\n",
              "    .colab-df-convert {\n",
              "      background-color: #E8F0FE;\n",
              "      border: none;\n",
              "      border-radius: 50%;\n",
              "      cursor: pointer;\n",
              "      display: none;\n",
              "      fill: #1967D2;\n",
              "      height: 32px;\n",
              "      padding: 0 0 0 0;\n",
              "      width: 32px;\n",
              "    }\n",
              "\n",
              "    .colab-df-convert:hover {\n",
              "      background-color: #E2EBFA;\n",
              "      box-shadow: 0px 1px 2px rgba(60, 64, 67, 0.3), 0px 1px 3px 1px rgba(60, 64, 67, 0.15);\n",
              "      fill: #174EA6;\n",
              "    }\n",
              "\n",
              "    [theme=dark] .colab-df-convert {\n",
              "      background-color: #3B4455;\n",
              "      fill: #D2E3FC;\n",
              "    }\n",
              "\n",
              "    [theme=dark] .colab-df-convert:hover {\n",
              "      background-color: #434B5C;\n",
              "      box-shadow: 0px 1px 3px 1px rgba(0, 0, 0, 0.15);\n",
              "      filter: drop-shadow(0px 1px 2px rgba(0, 0, 0, 0.3));\n",
              "      fill: #FFFFFF;\n",
              "    }\n",
              "  </style>\n",
              "\n",
              "      <script>\n",
              "        const buttonEl =\n",
              "          document.querySelector('#df-0588048a-a7cc-46db-bc0e-bcb777999860 button.colab-df-convert');\n",
              "        buttonEl.style.display =\n",
              "          google.colab.kernel.accessAllowed ? 'block' : 'none';\n",
              "\n",
              "        async function convertToInteractive(key) {\n",
              "          const element = document.querySelector('#df-0588048a-a7cc-46db-bc0e-bcb777999860');\n",
              "          const dataTable =\n",
              "            await google.colab.kernel.invokeFunction('convertToInteractive',\n",
              "                                                     [key], {});\n",
              "          if (!dataTable) return;\n",
              "\n",
              "          const docLinkHtml = 'Like what you see? Visit the ' +\n",
              "            '<a target=\"_blank\" href=https://colab.research.google.com/notebooks/data_table.ipynb>data table notebook</a>'\n",
              "            + ' to learn more about interactive tables.';\n",
              "          element.innerHTML = '';\n",
              "          dataTable['output_type'] = 'display_data';\n",
              "          await google.colab.output.renderOutput(dataTable, element);\n",
              "          const docLink = document.createElement('div');\n",
              "          docLink.innerHTML = docLinkHtml;\n",
              "          element.appendChild(docLink);\n",
              "        }\n",
              "      </script>\n",
              "    </div>\n",
              "  </div>\n",
              "  "
            ]
          },
          "metadata": {},
          "execution_count": 153
        }
      ]
    },
    {
      "cell_type": "code",
      "source": [
        "data_filter1=pd.DataFrame(stock_fiter)\n",
        "data_filter1=data_filter1.rename(columns={\"Date\": \"X\", \"Value\": \"Y\"})"
      ],
      "metadata": {
        "id": "UkpebDnMZrEz"
      },
      "execution_count": 154,
      "outputs": []
    },
    {
      "cell_type": "code",
      "source": [
        "time = []\n",
        "temp = 1\n",
        "for i in range(len(stock_fiter)):\n",
        "    if i>1:\n",
        "      time.append(temp)\n",
        "      d=pd.Timestamp(stock_fiter.values[i][0])-pd.Timestamp(stock_fiter.values[i-1][0])\n",
        "      temp += d.days\n",
        "    else:\n",
        "      time.append(temp)\n",
        "      temp += 1\n",
        "\n",
        "\n"
      ],
      "metadata": {
        "id": "vBVsJ3GIZrG4"
      },
      "execution_count": 155,
      "outputs": []
    },
    {
      "cell_type": "code",
      "source": [
        "data_filter1['X'] = time\n",
        "tf=data_filter1\n",
        "data_filter1\n",
        "\n",
        "data_filter1"
      ],
      "metadata": {
        "id": "1iDkCIoNtTcU",
        "colab": {
          "base_uri": "https://localhost:8080/",
          "height": 424
        },
        "outputId": "b0bf00b6-92bf-4154-b1ff-62ebfeb11189"
      },
      "execution_count": 156,
      "outputs": [
        {
          "output_type": "execute_result",
          "data": {
            "text/plain": [
              "         X            Y\n",
              "0        1   181.660004\n",
              "1        2   189.440002\n",
              "2        3   194.449997\n",
              "3        4   190.929993\n",
              "4        5   186.089996\n",
              "...    ...          ...\n",
              "2019  2931  1828.339966\n",
              "2020  2934  1853.250000\n",
              "2021  2935  1858.000000\n",
              "2022  2936  1870.680054\n",
              "2023  2937  2008.719971\n",
              "\n",
              "[2024 rows x 2 columns]"
            ],
            "text/html": [
              "\n",
              "  <div id=\"df-8bbf2aeb-a51a-4090-bce8-10d3003784ad\">\n",
              "    <div class=\"colab-df-container\">\n",
              "      <div>\n",
              "<style scoped>\n",
              "    .dataframe tbody tr th:only-of-type {\n",
              "        vertical-align: middle;\n",
              "    }\n",
              "\n",
              "    .dataframe tbody tr th {\n",
              "        vertical-align: top;\n",
              "    }\n",
              "\n",
              "    .dataframe thead th {\n",
              "        text-align: right;\n",
              "    }\n",
              "</style>\n",
              "<table border=\"1\" class=\"dataframe\">\n",
              "  <thead>\n",
              "    <tr style=\"text-align: right;\">\n",
              "      <th></th>\n",
              "      <th>X</th>\n",
              "      <th>Y</th>\n",
              "    </tr>\n",
              "  </thead>\n",
              "  <tbody>\n",
              "    <tr>\n",
              "      <th>0</th>\n",
              "      <td>1</td>\n",
              "      <td>181.660004</td>\n",
              "    </tr>\n",
              "    <tr>\n",
              "      <th>1</th>\n",
              "      <td>2</td>\n",
              "      <td>189.440002</td>\n",
              "    </tr>\n",
              "    <tr>\n",
              "      <th>2</th>\n",
              "      <td>3</td>\n",
              "      <td>194.449997</td>\n",
              "    </tr>\n",
              "    <tr>\n",
              "      <th>3</th>\n",
              "      <td>4</td>\n",
              "      <td>190.929993</td>\n",
              "    </tr>\n",
              "    <tr>\n",
              "      <th>4</th>\n",
              "      <td>5</td>\n",
              "      <td>186.089996</td>\n",
              "    </tr>\n",
              "    <tr>\n",
              "      <th>...</th>\n",
              "      <td>...</td>\n",
              "      <td>...</td>\n",
              "    </tr>\n",
              "    <tr>\n",
              "      <th>2019</th>\n",
              "      <td>2931</td>\n",
              "      <td>1828.339966</td>\n",
              "    </tr>\n",
              "    <tr>\n",
              "      <th>2020</th>\n",
              "      <td>2934</td>\n",
              "      <td>1853.250000</td>\n",
              "    </tr>\n",
              "    <tr>\n",
              "      <th>2021</th>\n",
              "      <td>2935</td>\n",
              "      <td>1858.000000</td>\n",
              "    </tr>\n",
              "    <tr>\n",
              "      <th>2022</th>\n",
              "      <td>2936</td>\n",
              "      <td>1870.680054</td>\n",
              "    </tr>\n",
              "    <tr>\n",
              "      <th>2023</th>\n",
              "      <td>2937</td>\n",
              "      <td>2008.719971</td>\n",
              "    </tr>\n",
              "  </tbody>\n",
              "</table>\n",
              "<p>2024 rows × 2 columns</p>\n",
              "</div>\n",
              "      <button class=\"colab-df-convert\" onclick=\"convertToInteractive('df-8bbf2aeb-a51a-4090-bce8-10d3003784ad')\"\n",
              "              title=\"Convert this dataframe to an interactive table.\"\n",
              "              style=\"display:none;\">\n",
              "        \n",
              "  <svg xmlns=\"http://www.w3.org/2000/svg\" height=\"24px\"viewBox=\"0 0 24 24\"\n",
              "       width=\"24px\">\n",
              "    <path d=\"M0 0h24v24H0V0z\" fill=\"none\"/>\n",
              "    <path d=\"M18.56 5.44l.94 2.06.94-2.06 2.06-.94-2.06-.94-.94-2.06-.94 2.06-2.06.94zm-11 1L8.5 8.5l.94-2.06 2.06-.94-2.06-.94L8.5 2.5l-.94 2.06-2.06.94zm10 10l.94 2.06.94-2.06 2.06-.94-2.06-.94-.94-2.06-.94 2.06-2.06.94z\"/><path d=\"M17.41 7.96l-1.37-1.37c-.4-.4-.92-.59-1.43-.59-.52 0-1.04.2-1.43.59L10.3 9.45l-7.72 7.72c-.78.78-.78 2.05 0 2.83L4 21.41c.39.39.9.59 1.41.59.51 0 1.02-.2 1.41-.59l7.78-7.78 2.81-2.81c.8-.78.8-2.07 0-2.86zM5.41 20L4 18.59l7.72-7.72 1.47 1.35L5.41 20z\"/>\n",
              "  </svg>\n",
              "      </button>\n",
              "      \n",
              "  <style>\n",
              "    .colab-df-container {\n",
              "      display:flex;\n",
              "      flex-wrap:wrap;\n",
              "      gap: 12px;\n",
              "    }\n",
              "\n",
              "    .colab-df-convert {\n",
              "      background-color: #E8F0FE;\n",
              "      border: none;\n",
              "      border-radius: 50%;\n",
              "      cursor: pointer;\n",
              "      display: none;\n",
              "      fill: #1967D2;\n",
              "      height: 32px;\n",
              "      padding: 0 0 0 0;\n",
              "      width: 32px;\n",
              "    }\n",
              "\n",
              "    .colab-df-convert:hover {\n",
              "      background-color: #E2EBFA;\n",
              "      box-shadow: 0px 1px 2px rgba(60, 64, 67, 0.3), 0px 1px 3px 1px rgba(60, 64, 67, 0.15);\n",
              "      fill: #174EA6;\n",
              "    }\n",
              "\n",
              "    [theme=dark] .colab-df-convert {\n",
              "      background-color: #3B4455;\n",
              "      fill: #D2E3FC;\n",
              "    }\n",
              "\n",
              "    [theme=dark] .colab-df-convert:hover {\n",
              "      background-color: #434B5C;\n",
              "      box-shadow: 0px 1px 3px 1px rgba(0, 0, 0, 0.15);\n",
              "      filter: drop-shadow(0px 1px 2px rgba(0, 0, 0, 0.3));\n",
              "      fill: #FFFFFF;\n",
              "    }\n",
              "  </style>\n",
              "\n",
              "      <script>\n",
              "        const buttonEl =\n",
              "          document.querySelector('#df-8bbf2aeb-a51a-4090-bce8-10d3003784ad button.colab-df-convert');\n",
              "        buttonEl.style.display =\n",
              "          google.colab.kernel.accessAllowed ? 'block' : 'none';\n",
              "\n",
              "        async function convertToInteractive(key) {\n",
              "          const element = document.querySelector('#df-8bbf2aeb-a51a-4090-bce8-10d3003784ad');\n",
              "          const dataTable =\n",
              "            await google.colab.kernel.invokeFunction('convertToInteractive',\n",
              "                                                     [key], {});\n",
              "          if (!dataTable) return;\n",
              "\n",
              "          const docLinkHtml = 'Like what you see? Visit the ' +\n",
              "            '<a target=\"_blank\" href=https://colab.research.google.com/notebooks/data_table.ipynb>data table notebook</a>'\n",
              "            + ' to learn more about interactive tables.';\n",
              "          element.innerHTML = '';\n",
              "          dataTable['output_type'] = 'display_data';\n",
              "          await google.colab.output.renderOutput(dataTable, element);\n",
              "          const docLink = document.createElement('div');\n",
              "          docLink.innerHTML = docLinkHtml;\n",
              "          element.appendChild(docLink);\n",
              "        }\n",
              "      </script>\n",
              "    </div>\n",
              "  </div>\n",
              "  "
            ]
          },
          "metadata": {},
          "execution_count": 156
        }
      ]
    },
    {
      "cell_type": "code",
      "source": [
        "data_filter1 = np.array_split(data_filter1, 1)\n"
      ],
      "metadata": {
        "id": "LP6lFvTLZI5H"
      },
      "execution_count": 157,
      "outputs": []
    },
    {
      "cell_type": "code",
      "source": [
        "b0_b1_4b = []\n",
        "a, b = compute_B0_B1(data_filter1[0]['X'], data_filter1[0]['Y'])\n",
        "b0_b1_4b.append((a, b))"
      ],
      "metadata": {
        "id": "oHbxq3lXZJX1"
      },
      "execution_count": 158,
      "outputs": []
    },
    {
      "cell_type": "code",
      "source": [
        "b0_b1_4b"
      ],
      "metadata": {
        "colab": {
          "base_uri": "https://localhost:8080/"
        },
        "id": "gzazHn9DZJZ5",
        "outputId": "a16e7b26-a526-4d06-83df-0d2b3a2c1039"
      },
      "execution_count": 159,
      "outputs": [
        {
          "output_type": "execute_result",
          "data": {
            "text/plain": [
              "[(-138.07471269131986, 0.6508700748118723)]"
            ]
          },
          "metadata": {},
          "execution_count": 159
        }
      ]
    },
    {
      "cell_type": "code",
      "source": [
        "stock.iloc[2465]"
      ],
      "metadata": {
        "colab": {
          "base_uri": "https://localhost:8080/"
        },
        "id": "feHkALQUwpno",
        "outputId": "77afca2f-e247-43e2-df4f-21b7787c7a02"
      },
      "execution_count": 160,
      "outputs": [
        {
          "output_type": "execute_result",
          "data": {
            "text/plain": [
              "Date     2021-11-01 00:00:00\n",
              "Value            3318.110107\n",
              "Name: 2465, dtype: object"
            ]
          },
          "metadata": {},
          "execution_count": 160
        }
      ]
    },
    {
      "cell_type": "code",
      "source": [
        "pred_Nov1st_2021 = b0_b1_4b[0][0] + (b0_b1_4b[0][1] * (data.iloc[2465].X))\n",
        "temp1 = b0_b1_4b[0][0] + (b0_b1_4b[0][1] * data_filter1[0]['X'])\n",
        "\n",
        "plt.figure(figsize=(8, 8))\n",
        "plt.plot(data_filter1[0]['X'].values, data_filter1[0]['Y'].values, label = \"Original data points for partition \");\n",
        "plt.plot(data_filter1[0]['X'].values, temp1)\n",
        "plt.ylabel(\"Amazon Stock Price\")\n",
        "plt.xlabel('Time(Days)')\n",
        "plt.title(\"Amazon Stock Price Vs Time\")\n",
        "plt.gca().legend(('Observed Values ', 'Regression Fit'))\n",
        "plt.grid()\n",
        "plt.show()\n",
        "\n",
        "\n"
      ],
      "metadata": {
        "colab": {
          "base_uri": "https://localhost:8080/",
          "height": 513
        },
        "id": "isFJpfl4YjdA",
        "outputId": "cc9d873a-5bdb-4c5a-fd7e-5a1e66f70d8b"
      },
      "execution_count": 161,
      "outputs": [
        {
          "output_type": "display_data",
          "data": {
            "text/plain": [
              "<Figure size 576x576 with 1 Axes>"
            ],
            "image/png": "[encoded data removed]"
          },
          "metadata": {
            "needs_background": "light"
          }
        }
      ]
    },
    {
      "cell_type": "code",
      "source": [
        ""
      ],
      "metadata": {
        "id": "hrnXjOyEcu4T"
      },
      "execution_count": null,
      "outputs": []
    },
    {
      "cell_type": "code",
      "source": [
        "actual_value_1st_nov_2021 = stock.loc[stock['Date']=='2021-11-1']\n",
        "\n",
        "percent_diff = (abs(pred_Nov1st_2021-actual_value_1st_nov_2021.values[0][1])/actual_value_1st_nov_2021.values[0][1])*100\n",
        "print(\"Percentage difference between true and predicted for 2021-11-1 : \"+str(percent_diff)+\" %\")\n",
        "\n",
        "print(\"The Predicted Stock Value  2021-11-1 : \"+ str(pred_Nov1st_2021))"
      ],
      "metadata": {
        "colab": {
          "base_uri": "https://localhost:8080/"
        },
        "id": "8IjxoajWYjzq",
        "outputId": "57407a19-15f9-41bb-8120-ab8bb3c89481"
      },
      "execution_count": 162,
      "outputs": [
        {
          "output_type": "stream",
          "name": "stdout",
          "text": [
            "Percentage difference between true and predicted for 2021-11-1 : 34.03516658041017 %\n",
            "The Predicted Stock Value  2021-11-1 : 2188.785804761124\n"
          ]
        }
      ]
    },
    {
      "cell_type": "code",
      "source": [
        ""
      ],
      "metadata": {
        "id": "yJDonArocwRS"
      },
      "execution_count": 165,
      "outputs": []
    },
    {
      "cell_type": "code",
      "source": [
        "sse_4b = np.sum(np.square(actual_value_1st_nov_2021.values[0][1] - pred_Nov1st_2021))\n",
        "print(\"SSE for 2021-11-1 \" + \": \" + str(sse_4b))"
      ],
      "metadata": {
        "colab": {
          "base_uri": "https://localhost:8080/"
        },
        "id": "ugPEmhlFfD7d",
        "outputId": "77cba333-14d6-4b67-8e12-606c4b1ea354"
      },
      "execution_count": 163,
      "outputs": [
        {
          "output_type": "stream",
          "name": "stdout",
          "text": [
            "SSE for 2021-11-1 : 1275373.3796273242\n"
          ]
        }
      ]
    },
    {
      "cell_type": "markdown",
      "source": [
        "**4.c Let us see how the stock price will increase in the future considering the same factors will continue for 10 more years. Using only the data after Sept 2020, predict the stock price on 1st January 2031 using simple linear regression. Show the prediction result and SSE. Plot the original data and the regression fit. Add the regression fit from (b) into the same plot.**"
      ],
      "metadata": {
        "id": "iWmoHJLsiG2-"
      }
    },
    {
      "cell_type": "code",
      "source": [
        "filter_date = ((stock['Date']>='2020-9-1'))\n",
        "\n",
        "stock_fiter2=stock.loc[filter_date]"
      ],
      "metadata": {
        "id": "I4DdpuCLYj4F"
      },
      "execution_count": 126,
      "outputs": []
    },
    {
      "cell_type": "code",
      "source": [
        "data_filter2=pd.DataFrame(stock_fiter2)\n",
        "data_filter2=data_filter2.rename(columns={\"Date\": \"X\", \"Value\": \"Y\"})"
      ],
      "metadata": {
        "id": "ckGqiyL4iu82"
      },
      "execution_count": 127,
      "outputs": []
    },
    {
      "cell_type": "code",
      "source": [
        "time = []\n",
        "temp = 3151\n",
        "for i in range(len(stock_fiter2)):\n",
        "    if i>1:\n",
        "      time.append(temp)\n",
        "      d=pd.Timestamp(stock_fiter2.values[i][0])-pd.Timestamp(stock_fiter2.values[i-1][0])\n",
        "      temp += d.days\n",
        "    else:\n",
        "      time.append(temp)\n",
        "      temp += 1\n",
        "\n",
        "\n"
      ],
      "metadata": {
        "id": "_rzVV87QYj7i"
      },
      "execution_count": 128,
      "outputs": []
    },
    {
      "cell_type": "code",
      "source": [
        "data_filter2['X']=time"
      ],
      "metadata": {
        "id": "y1UZHgwTyVjS"
      },
      "execution_count": 129,
      "outputs": []
    },
    {
      "cell_type": "code",
      "source": [
        "data_filter2 = np.array_split(data_filter2, 1)"
      ],
      "metadata": {
        "id": "5XD8ER4JjDs_"
      },
      "execution_count": 130,
      "outputs": []
    },
    {
      "cell_type": "code",
      "source": [
        "b0_b1_4c = []\n",
        "a, b = compute_B0_B1(data_filter2[0]['X'], data_filter2[0]['Y'])\n",
        "b0_b1_4c.append((a, b))\n",
        "b0_b1_4c"
      ],
      "metadata": {
        "colab": {
          "base_uri": "https://localhost:8080/"
        },
        "id": "-Sjov-mdjELw",
        "outputId": "d78538a8-4896-43bd-b95f-251b95fb6488"
      },
      "execution_count": 131,
      "outputs": [
        {
          "output_type": "execute_result",
          "data": {
            "text/plain": [
              "[(836.0049353486988, 0.7269567672457925)]"
            ]
          },
          "metadata": {},
          "execution_count": 131
        }
      ]
    },
    {
      "cell_type": "code",
      "source": [
        "pred_Jan1st_2031 = b0_b1_4c[0][0] + (b0_b1_4c[0][1] * 6925)\n",
        "\n",
        "\n",
        "print(\"The Predicted Stock Value  2031-01-1 : \"+ str(pred_Jan1st_2031))"
      ],
      "metadata": {
        "colab": {
          "base_uri": "https://localhost:8080/"
        },
        "id": "Y4wAQvJxjENx",
        "outputId": "d5cc4b8c-5a86-4d6f-afef-e3e9a4489c69"
      },
      "execution_count": 132,
      "outputs": [
        {
          "output_type": "stream",
          "name": "stdout",
          "text": [
            "The Predicted Stock Value  2031-01-1 : 5870.180548525812\n"
          ]
        }
      ]
    },
    {
      "cell_type": "code",
      "source": [
        "temp2 = b0_b1_4c[0][0] + (b0_b1_4c[0][1] * data_filter2[0]['X'])\n",
        "sse = np.sum(np.square(data_filter2[0]['Y'] - temp2))\n",
        "print(\"SSE for Data \" + \": \" + str(sse))\n",
        "plt.figure(figsize=(15, 8))\n",
        "plt.plot(data_filter1[0]['X'].values, data_filter1[0]['Y'].values, label = \"Original data points for partition \");\n",
        "plt.plot(data_filter1[0]['X'].values, temp1)\n",
        "plt.plot(data_filter2[0]['X'].values, data_filter2[0]['Y'].values, label = \"Original data points for partition \");\n",
        "plt.plot(data_filter2[0]['X'].values, temp2)\n",
        "plt.ylabel(\"Amazon Stock Price\")\n",
        "plt.xlabel('Time(Days)')\n",
        "plt.title(\"Stock Price Vs Time\")\n",
        "plt.gca().legend(('Observed Values 4.b', 'Regression Fit 4.b','Observed Values 4.c', 'Regression Fit 4.c'))\n",
        "plt.grid()\n",
        "plt.show()\n"
      ],
      "metadata": {
        "colab": {
          "base_uri": "https://localhost:8080/",
          "height": 531
        },
        "id": "NBv1anyrzho6",
        "outputId": "1e4f7bc6-6434-4e0d-918f-723ee19e397a"
      },
      "execution_count": 133,
      "outputs": [
        {
          "output_type": "stream",
          "name": "stdout",
          "text": [
            "SSE for Data : 5512383.208922967\n"
          ]
        },
        {
          "output_type": "display_data",
          "data": {
            "text/plain": [
              "<Figure size 1080x576 with 1 Axes>"
            ],
            "image/png": "[encoded data removed]"
          },
          "metadata": {
            "needs_background": "light"
          }
        }
      ]
    },
    {
      "cell_type": "markdown",
      "source": [
        "**4d. Using the data from Jan 2012 to Jan 2020, predict the stock price on 1st January 2031 using simple\n",
        "linear regression. What is the percentage difference between the predictions in (c) and (d)?**"
      ],
      "metadata": {
        "id": "N0IUV1BiqXj9"
      }
    },
    {
      "cell_type": "code",
      "source": [
        "filter_date = ((stock['Date']>='2012-01-01') & (stock['Date']<='2020-01-31'))\n",
        "\n",
        "stock_fiter3=stock.loc[filter_date]\n",
        "stock_fiter3"
      ],
      "metadata": {
        "colab": {
          "base_uri": "https://localhost:8080/",
          "height": 424
        },
        "id": "a1NVAMJXjEP2",
        "outputId": "ccd7f79d-f0f7-4503-86de-1c1d2e270771"
      },
      "execution_count": null,
      "outputs": [
        {
          "output_type": "execute_result",
          "data": {
            "text/plain": [
              "           Date        Value\n",
              "0    2012-01-17   181.660004\n",
              "1    2012-01-18   189.440002\n",
              "2    2012-01-19   194.449997\n",
              "3    2012-01-20   190.929993\n",
              "4    2012-01-23   186.089996\n",
              "...         ...          ...\n",
              "2019 2020-01-27  1828.339966\n",
              "2020 2020-01-28  1853.250000\n",
              "2021 2020-01-29  1858.000000\n",
              "2022 2020-01-30  1870.680054\n",
              "2023 2020-01-31  2008.719971\n",
              "\n",
              "[2024 rows x 2 columns]"
            ],
            "text/html": [
              "\n",
              "  <div id=\"df-ac01a91e-b357-4a90-ac99-49cb2557df5c\">\n",
              "    <div class=\"colab-df-container\">\n",
              "      <div>\n",
              "<style scoped>\n",
              "    .dataframe tbody tr th:only-of-type {\n",
              "        vertical-align: middle;\n",
              "    }\n",
              "\n",
              "    .dataframe tbody tr th {\n",
              "        vertical-align: top;\n",
              "    }\n",
              "\n",
              "    .dataframe thead th {\n",
              "        text-align: right;\n",
              "    }\n",
              "</style>\n",
              "<table border=\"1\" class=\"dataframe\">\n",
              "  <thead>\n",
              "    <tr style=\"text-align: right;\">\n",
              "      <th></th>\n",
              "      <th>Date</th>\n",
              "      <th>Value</th>\n",
              "    </tr>\n",
              "  </thead>\n",
              "  <tbody>\n",
              "    <tr>\n",
              "      <th>0</th>\n",
              "      <td>2012-01-17</td>\n",
              "      <td>181.660004</td>\n",
              "    </tr>\n",
              "    <tr>\n",
              "      <th>1</th>\n",
              "      <td>2012-01-18</td>\n",
              "      <td>189.440002</td>\n",
              "    </tr>\n",
              "    <tr>\n",
              "      <th>2</th>\n",
              "      <td>2012-01-19</td>\n",
              "      <td>194.449997</td>\n",
              "    </tr>\n",
              "    <tr>\n",
              "      <th>3</th>\n",
              "      <td>2012-01-20</td>\n",
              "      <td>190.929993</td>\n",
              "    </tr>\n",
              "    <tr>\n",
              "      <th>4</th>\n",
              "      <td>2012-01-23</td>\n",
              "      <td>186.089996</td>\n",
              "    </tr>\n",
              "    <tr>\n",
              "      <th>...</th>\n",
              "      <td>...</td>\n",
              "      <td>...</td>\n",
              "    </tr>\n",
              "    <tr>\n",
              "      <th>2019</th>\n",
              "      <td>2020-01-27</td>\n",
              "      <td>1828.339966</td>\n",
              "    </tr>\n",
              "    <tr>\n",
              "      <th>2020</th>\n",
              "      <td>2020-01-28</td>\n",
              "      <td>1853.250000</td>\n",
              "    </tr>\n",
              "    <tr>\n",
              "      <th>2021</th>\n",
              "      <td>2020-01-29</td>\n",
              "      <td>1858.000000</td>\n",
              "    </tr>\n",
              "    <tr>\n",
              "      <th>2022</th>\n",
              "      <td>2020-01-30</td>\n",
              "      <td>1870.680054</td>\n",
              "    </tr>\n",
              "    <tr>\n",
              "      <th>2023</th>\n",
              "      <td>2020-01-31</td>\n",
              "      <td>2008.719971</td>\n",
              "    </tr>\n",
              "  </tbody>\n",
              "</table>\n",
              "<p>2024 rows × 2 columns</p>\n",
              "</div>\n",
              "      <button class=\"colab-df-convert\" onclick=\"convertToInteractive('df-ac01a91e-b357-4a90-ac99-49cb2557df5c')\"\n",
              "              title=\"Convert this dataframe to an interactive table.\"\n",
              "              style=\"display:none;\">\n",
              "        \n",
              "  <svg xmlns=\"http://www.w3.org/2000/svg\" height=\"24px\"viewBox=\"0 0 24 24\"\n",
              "       width=\"24px\">\n",
              "    <path d=\"M0 0h24v24H0V0z\" fill=\"none\"/>\n",
              "    <path d=\"M18.56 5.44l.94 2.06.94-2.06 2.06-.94-2.06-.94-.94-2.06-.94 2.06-2.06.94zm-11 1L8.5 8.5l.94-2.06 2.06-.94-2.06-.94L8.5 2.5l-.94 2.06-2.06.94zm10 10l.94 2.06.94-2.06 2.06-.94-2.06-.94-.94-2.06-.94 2.06-2.06.94z\"/><path d=\"M17.41 7.96l-1.37-1.37c-.4-.4-.92-.59-1.43-.59-.52 0-1.04.2-1.43.59L10.3 9.45l-7.72 7.72c-.78.78-.78 2.05 0 2.83L4 21.41c.39.39.9.59 1.41.59.51 0 1.02-.2 1.41-.59l7.78-7.78 2.81-2.81c.8-.78.8-2.07 0-2.86zM5.41 20L4 18.59l7.72-7.72 1.47 1.35L5.41 20z\"/>\n",
              "  </svg>\n",
              "      </button>\n",
              "      \n",
              "  <style>\n",
              "    .colab-df-container {\n",
              "      display:flex;\n",
              "      flex-wrap:wrap;\n",
              "      gap: 12px;\n",
              "    }\n",
              "\n",
              "    .colab-df-convert {\n",
              "      background-color: #E8F0FE;\n",
              "      border: none;\n",
              "      border-radius: 50%;\n",
              "      cursor: pointer;\n",
              "      display: none;\n",
              "      fill: #1967D2;\n",
              "      height: 32px;\n",
              "      padding: 0 0 0 0;\n",
              "      width: 32px;\n",
              "    }\n",
              "\n",
              "    .colab-df-convert:hover {\n",
              "      background-color: #E2EBFA;\n",
              "      box-shadow: 0px 1px 2px rgba(60, 64, 67, 0.3), 0px 1px 3px 1px rgba(60, 64, 67, 0.15);\n",
              "      fill: #174EA6;\n",
              "    }\n",
              "\n",
              "    [theme=dark] .colab-df-convert {\n",
              "      background-color: #3B4455;\n",
              "      fill: #D2E3FC;\n",
              "    }\n",
              "\n",
              "    [theme=dark] .colab-df-convert:hover {\n",
              "      background-color: #434B5C;\n",
              "      box-shadow: 0px 1px 3px 1px rgba(0, 0, 0, 0.15);\n",
              "      filter: drop-shadow(0px 1px 2px rgba(0, 0, 0, 0.3));\n",
              "      fill: #FFFFFF;\n",
              "    }\n",
              "  </style>\n",
              "\n",
              "      <script>\n",
              "        const buttonEl =\n",
              "          document.querySelector('#df-ac01a91e-b357-4a90-ac99-49cb2557df5c button.colab-df-convert');\n",
              "        buttonEl.style.display =\n",
              "          google.colab.kernel.accessAllowed ? 'block' : 'none';\n",
              "\n",
              "        async function convertToInteractive(key) {\n",
              "          const element = document.querySelector('#df-ac01a91e-b357-4a90-ac99-49cb2557df5c');\n",
              "          const dataTable =\n",
              "            await google.colab.kernel.invokeFunction('convertToInteractive',\n",
              "                                                     [key], {});\n",
              "          if (!dataTable) return;\n",
              "\n",
              "          const docLinkHtml = 'Like what you see? Visit the ' +\n",
              "            '<a target=\"_blank\" href=https://colab.research.google.com/notebooks/data_table.ipynb>data table notebook</a>'\n",
              "            + ' to learn more about interactive tables.';\n",
              "          element.innerHTML = '';\n",
              "          dataTable['output_type'] = 'display_data';\n",
              "          await google.colab.output.renderOutput(dataTable, element);\n",
              "          const docLink = document.createElement('div');\n",
              "          docLink.innerHTML = docLinkHtml;\n",
              "          element.appendChild(docLink);\n",
              "        }\n",
              "      </script>\n",
              "    </div>\n",
              "  </div>\n",
              "  "
            ]
          },
          "metadata": {},
          "execution_count": 91
        }
      ]
    },
    {
      "cell_type": "code",
      "source": [
        "data_filter3=pd.DataFrame(stock_fiter3)\n",
        "data_filter3=data_filter3.rename(columns={\"Date\": \"X\", \"Value\": \"Y\"})\n"
      ],
      "metadata": {
        "id": "CAYnGBgzKPDE"
      },
      "execution_count": null,
      "outputs": []
    },
    {
      "cell_type": "code",
      "source": [
        "time = []\n",
        "temp = 1\n",
        "for i in range(len(stock_fiter3)):\n",
        "    if i>1:\n",
        "      time.append(temp)\n",
        "      d=pd.Timestamp(stock_fiter3.values[i][0])-pd.Timestamp(stock_fiter3.values[i-1][0])\n",
        "      temp += d.days\n",
        "    else:\n",
        "      time.append(temp)\n",
        "      temp += 1\n",
        "\n",
        "\n"
      ],
      "metadata": {
        "id": "dq9d4geqKPF3"
      },
      "execution_count": null,
      "outputs": []
    },
    {
      "cell_type": "code",
      "source": [
        "data_filter3['X']=time"
      ],
      "metadata": {
        "id": "Alim3WXEFKxq"
      },
      "execution_count": null,
      "outputs": []
    },
    {
      "cell_type": "code",
      "source": [
        "data_filter3 = np.array_split(data_filter3, 1)\n"
      ],
      "metadata": {
        "id": "yP9aJgMALxhi"
      },
      "execution_count": null,
      "outputs": []
    },
    {
      "cell_type": "code",
      "source": [
        "b0_b1_4d = []\n",
        "a, b = compute_B0_B1(data_filter3[0]['X'], data_filter3[0]['Y'])\n",
        "b0_b1_4d.append((a, b))"
      ],
      "metadata": {
        "id": "3UHCokfxKPI5"
      },
      "execution_count": null,
      "outputs": []
    },
    {
      "cell_type": "code",
      "source": [
        "b0_b1_4d"
      ],
      "metadata": {
        "colab": {
          "base_uri": "https://localhost:8080/"
        },
        "id": "pYD5zWDeKPWw",
        "outputId": "64bd70bd-d54d-44ca-bc26-6292a56c9d11"
      },
      "execution_count": null,
      "outputs": [
        {
          "output_type": "execute_result",
          "data": {
            "text/plain": [
              "[(-138.07471269131986, 0.6508700748118723)]"
            ]
          },
          "metadata": {},
          "execution_count": 97
        }
      ]
    },
    {
      "cell_type": "code",
      "source": [
        "pred_Jan1st_2026 = b0_b1_4d[0][0] + (b0_b1_4d[0][1] * 6925)\n",
        "\n",
        "\n",
        "print(\"The Predicted Stock Value  2026-01-1 : \"+ str(pred_Jan1st_2026))"
      ],
      "metadata": {
        "colab": {
          "base_uri": "https://localhost:8080/"
        },
        "id": "HxhySHKpL-Cl",
        "outputId": "22e8bad0-84f7-432d-a808-e5121f3cca98"
      },
      "execution_count": null,
      "outputs": [
        {
          "output_type": "stream",
          "name": "stdout",
          "text": [
            "The Predicted Stock Value  2026-01-1 : 4369.200555380896\n"
          ]
        }
      ]
    },
    {
      "cell_type": "code",
      "source": [
        "percent_diff2 = (abs(pred_Jan1st_2031-pred_Jan1st_2026)/pred_Jan1st_2031)*100\n",
        "\n",
        "print(\"Percentage difference between 2031-01-1 and 2026-01-1 predicted values: \"+str(percent_diff2)+\" %\")"
      ],
      "metadata": {
        "colab": {
          "base_uri": "https://localhost:8080/"
        },
        "id": "xy2NJv6rL-PB",
        "outputId": "8aa9535e-ac30-41fb-ee10-b21d1a0e5d44"
      },
      "execution_count": null,
      "outputs": [
        {
          "output_type": "stream",
          "name": "stdout",
          "text": [
            "Percentage difference between 2031-01-1 and 2026-01-1 predicted values: 25.569571169695276 %\n"
          ]
        }
      ]
    },
    {
      "cell_type": "markdown",
      "source": [
        "**4(e) What is your inference from the results of (b), (c), and (d)?**"
      ],
      "metadata": {
        "id": "RQEwXSDWwMDi"
      }
    },
    {
      "cell_type": "markdown",
      "source": [
        "In C and D we predicted the stock price for the date 1st January 2031 with the help two different time frames(>Sept 2020 and Jan 2012 to Jan 2020 ). \n",
        "The percentage error of the predicted values from the above was around 26% due to varied time ranges used to predict the data.\n",
        "The time range >September 2020 was more accurate when compared to Jan 2012 to Jan 2020 was because of the renect trend in the former range compared to the latter.\n",
        "\n",
        "The SSE for b : 2021-11-1 is  1275373.3796273242 the large value is due to the non stationary data which enclosed different trends in the dataset.\n",
        "\n",
        "\n"
      ],
      "metadata": {
        "id": "cRWuOgn1gdEZ"
      }
    },
    {
      "cell_type": "code",
      "source": [
        ""
      ],
      "metadata": {
        "id": "LETq4iNGwSFv"
      },
      "execution_count": null,
      "outputs": []
    }
  ]
}