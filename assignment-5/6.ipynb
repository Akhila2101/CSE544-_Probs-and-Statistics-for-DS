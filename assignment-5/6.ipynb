{
  "nbformat": 4,
  "nbformat_minor": 0,
  "metadata": {
    "colab": {
      "name": "A5Q6.ipynb",
      "provenance": []
    },
    "kernelspec": {
      "name": "python3",
      "display_name": "Python 3"
    },
    "language_info": {
      "name": "python"
    }
  },
  "cells": [
    {
      "cell_type": "markdown",
      "source": [
        "# 6-A"
      ],
      "metadata": {
        "id": "adkSSWdCviT6"
      }
    },
    {
      "cell_type": "code",
      "execution_count": 3,
      "metadata": {
        "id": "pZrixA3zlo6v"
      },
      "outputs": [],
      "source": [
        "import pandas as pd\n",
        "import numpy as np"
      ]
    },
    {
      "cell_type": "code",
      "source": [
        "data=pd.read_csv(\"/content/a5_q6.csv\")"
      ],
      "metadata": {
        "id": "prdgdJSumS5z"
      },
      "execution_count": 4,
      "outputs": []
    },
    {
      "cell_type": "code",
      "source": [
        "data.head()"
      ],
      "metadata": {
        "colab": {
          "base_uri": "https://localhost:8080/",
          "height": 0
        },
        "id": "zXY_bgTEmu-O",
        "outputId": "e32a752c-a299-4807-9a4b-38f412d891c2"
      },
      "execution_count": 5,
      "outputs": [
        {
          "output_type": "execute_result",
          "data": {
            "text/plain": [
              "  Province/State              Country/Region          Last Update  Confirmed  \\\n",
              "0          Hubei              Mainland China  2020-03-10T15:13:05      67760   \n",
              "1            NaN                       Italy  2020-03-10T17:53:02      10149   \n",
              "2            NaN  Iran (Islamic Republic of)  2020-03-10T19:13:20       8042   \n",
              "3            NaN           Republic of Korea  2020-03-10T19:13:20       7513   \n",
              "4            NaN                      France  2020-03-10T18:53:02       1784   \n",
              "\n",
              "   Deaths  Recovered  Latitude  Longitude  Temprature  Humidity  \n",
              "0    3024      47743   30.9756   112.2707        12.5        86  \n",
              "1     631        724   43.0000    12.0000        12.9        64  \n",
              "2     291       2731   32.0000    53.0000        11.9         9  \n",
              "3      54        247   36.0000   128.0000         4.9        41  \n",
              "4      33         12   47.0000     2.0000        11.9        93  "
            ],
            "text/html": [
              "\n",
              "  <div id=\"df-42daeaa4-1272-43bf-81ad-914a1270a1fd\">\n",
              "    <div class=\"colab-df-container\">\n",
              "      <div>\n",
              "<style scoped>\n",
              "    .dataframe tbody tr th:only-of-type {\n",
              "        vertical-align: middle;\n",
              "    }\n",
              "\n",
              "    .dataframe tbody tr th {\n",
              "        vertical-align: top;\n",
              "    }\n",
              "\n",
              "    .dataframe thead th {\n",
              "        text-align: right;\n",
              "    }\n",
              "</style>\n",
              "<table border=\"1\" class=\"dataframe\">\n",
              "  <thead>\n",
              "    <tr style=\"text-align: right;\">\n",
              "      <th></th>\n",
              "      <th>Province/State</th>\n",
              "      <th>Country/Region</th>\n",
              "      <th>Last Update</th>\n",
              "      <th>Confirmed</th>\n",
              "      <th>Deaths</th>\n",
              "      <th>Recovered</th>\n",
              "      <th>Latitude</th>\n",
              "      <th>Longitude</th>\n",
              "      <th>Temprature</th>\n",
              "      <th>Humidity</th>\n",
              "    </tr>\n",
              "  </thead>\n",
              "  <tbody>\n",
              "    <tr>\n",
              "      <th>0</th>\n",
              "      <td>Hubei</td>\n",
              "      <td>Mainland China</td>\n",
              "      <td>2020-03-10T15:13:05</td>\n",
              "      <td>67760</td>\n",
              "      <td>3024</td>\n",
              "      <td>47743</td>\n",
              "      <td>30.9756</td>\n",
              "      <td>112.2707</td>\n",
              "      <td>12.5</td>\n",
              "      <td>86</td>\n",
              "    </tr>\n",
              "    <tr>\n",
              "      <th>1</th>\n",
              "      <td>NaN</td>\n",
              "      <td>Italy</td>\n",
              "      <td>2020-03-10T17:53:02</td>\n",
              "      <td>10149</td>\n",
              "      <td>631</td>\n",
              "      <td>724</td>\n",
              "      <td>43.0000</td>\n",
              "      <td>12.0000</td>\n",
              "      <td>12.9</td>\n",
              "      <td>64</td>\n",
              "    </tr>\n",
              "    <tr>\n",
              "      <th>2</th>\n",
              "      <td>NaN</td>\n",
              "      <td>Iran (Islamic Republic of)</td>\n",
              "      <td>2020-03-10T19:13:20</td>\n",
              "      <td>8042</td>\n",
              "      <td>291</td>\n",
              "      <td>2731</td>\n",
              "      <td>32.0000</td>\n",
              "      <td>53.0000</td>\n",
              "      <td>11.9</td>\n",
              "      <td>9</td>\n",
              "    </tr>\n",
              "    <tr>\n",
              "      <th>3</th>\n",
              "      <td>NaN</td>\n",
              "      <td>Republic of Korea</td>\n",
              "      <td>2020-03-10T19:13:20</td>\n",
              "      <td>7513</td>\n",
              "      <td>54</td>\n",
              "      <td>247</td>\n",
              "      <td>36.0000</td>\n",
              "      <td>128.0000</td>\n",
              "      <td>4.9</td>\n",
              "      <td>41</td>\n",
              "    </tr>\n",
              "    <tr>\n",
              "      <th>4</th>\n",
              "      <td>NaN</td>\n",
              "      <td>France</td>\n",
              "      <td>2020-03-10T18:53:02</td>\n",
              "      <td>1784</td>\n",
              "      <td>33</td>\n",
              "      <td>12</td>\n",
              "      <td>47.0000</td>\n",
              "      <td>2.0000</td>\n",
              "      <td>11.9</td>\n",
              "      <td>93</td>\n",
              "    </tr>\n",
              "  </tbody>\n",
              "</table>\n",
              "</div>\n",
              "      <button class=\"colab-df-convert\" onclick=\"convertToInteractive('df-42daeaa4-1272-43bf-81ad-914a1270a1fd')\"\n",
              "              title=\"Convert this dataframe to an interactive table.\"\n",
              "              style=\"display:none;\">\n",
              "        \n",
              "  <svg xmlns=\"http://www.w3.org/2000/svg\" height=\"24px\"viewBox=\"0 0 24 24\"\n",
              "       width=\"24px\">\n",
              "    <path d=\"M0 0h24v24H0V0z\" fill=\"none\"/>\n",
              "    <path d=\"M18.56 5.44l.94 2.06.94-2.06 2.06-.94-2.06-.94-.94-2.06-.94 2.06-2.06.94zm-11 1L8.5 8.5l.94-2.06 2.06-.94-2.06-.94L8.5 2.5l-.94 2.06-2.06.94zm10 10l.94 2.06.94-2.06 2.06-.94-2.06-.94-.94-2.06-.94 2.06-2.06.94z\"/><path d=\"M17.41 7.96l-1.37-1.37c-.4-.4-.92-.59-1.43-.59-.52 0-1.04.2-1.43.59L10.3 9.45l-7.72 7.72c-.78.78-.78 2.05 0 2.83L4 21.41c.39.39.9.59 1.41.59.51 0 1.02-.2 1.41-.59l7.78-7.78 2.81-2.81c.8-.78.8-2.07 0-2.86zM5.41 20L4 18.59l7.72-7.72 1.47 1.35L5.41 20z\"/>\n",
              "  </svg>\n",
              "      </button>\n",
              "      \n",
              "  <style>\n",
              "    .colab-df-container {\n",
              "      display:flex;\n",
              "      flex-wrap:wrap;\n",
              "      gap: 12px;\n",
              "    }\n",
              "\n",
              "    .colab-df-convert {\n",
              "      background-color: #E8F0FE;\n",
              "      border: none;\n",
              "      border-radius: 50%;\n",
              "      cursor: pointer;\n",
              "      display: none;\n",
              "      fill: #1967D2;\n",
              "      height: 32px;\n",
              "      padding: 0 0 0 0;\n",
              "      width: 32px;\n",
              "    }\n",
              "\n",
              "    .colab-df-convert:hover {\n",
              "      background-color: #E2EBFA;\n",
              "      box-shadow: 0px 1px 2px rgba(60, 64, 67, 0.3), 0px 1px 3px 1px rgba(60, 64, 67, 0.15);\n",
              "      fill: #174EA6;\n",
              "    }\n",
              "\n",
              "    [theme=dark] .colab-df-convert {\n",
              "      background-color: #3B4455;\n",
              "      fill: #D2E3FC;\n",
              "    }\n",
              "\n",
              "    [theme=dark] .colab-df-convert:hover {\n",
              "      background-color: #434B5C;\n",
              "      box-shadow: 0px 1px 3px 1px rgba(0, 0, 0, 0.15);\n",
              "      filter: drop-shadow(0px 1px 2px rgba(0, 0, 0, 0.3));\n",
              "      fill: #FFFFFF;\n",
              "    }\n",
              "  </style>\n",
              "\n",
              "      <script>\n",
              "        const buttonEl =\n",
              "          document.querySelector('#df-42daeaa4-1272-43bf-81ad-914a1270a1fd button.colab-df-convert');\n",
              "        buttonEl.style.display =\n",
              "          google.colab.kernel.accessAllowed ? 'block' : 'none';\n",
              "\n",
              "        async function convertToInteractive(key) {\n",
              "          const element = document.querySelector('#df-42daeaa4-1272-43bf-81ad-914a1270a1fd');\n",
              "          const dataTable =\n",
              "            await google.colab.kernel.invokeFunction('convertToInteractive',\n",
              "                                                     [key], {});\n",
              "          if (!dataTable) return;\n",
              "\n",
              "          const docLinkHtml = 'Like what you see? Visit the ' +\n",
              "            '<a target=\"_blank\" href=https://colab.research.google.com/notebooks/data_table.ipynb>data table notebook</a>'\n",
              "            + ' to learn more about interactive tables.';\n",
              "          element.innerHTML = '';\n",
              "          dataTable['output_type'] = 'display_data';\n",
              "          await google.colab.output.renderOutput(dataTable, element);\n",
              "          const docLink = document.createElement('div');\n",
              "          docLink.innerHTML = docLinkHtml;\n",
              "          element.appendChild(docLink);\n",
              "        }\n",
              "      </script>\n",
              "    </div>\n",
              "  </div>\n",
              "  "
            ]
          },
          "metadata": {},
          "execution_count": 5
        }
      ]
    },
    {
      "cell_type": "code",
      "source": [
        "warm_data=[i for i in data.loc[data[\"Temprature\"]>12][[\"Confirmed\"]][\"Confirmed\"]]"
      ],
      "metadata": {
        "id": "4JPMuyaioBjr"
      },
      "execution_count": 6,
      "outputs": []
    },
    {
      "cell_type": "code",
      "source": [
        "cold_data=[i for i in data.loc[data[\"Temprature\"]<=12][[\"Confirmed\"]][\"Confirmed\"]]"
      ],
      "metadata": {
        "id": "vyCZMi0fmv7n"
      },
      "execution_count": 7,
      "outputs": []
    },
    {
      "cell_type": "code",
      "source": [
        "len(warm_data)+len(cold_data)==len(data)"
      ],
      "metadata": {
        "colab": {
          "base_uri": "https://localhost:8080/"
        },
        "id": "auVCepb8oUHv",
        "outputId": "66bf97e4-bbd2-4ad9-9386-e7c94704087f"
      },
      "execution_count": 8,
      "outputs": [
        {
          "output_type": "execute_result",
          "data": {
            "text/plain": [
              "True"
            ]
          },
          "metadata": {},
          "execution_count": 8
        }
      ]
    },
    {
      "cell_type": "code",
      "source": [
        "len(data)"
      ],
      "metadata": {
        "colab": {
          "base_uri": "https://localhost:8080/"
        },
        "id": "ZpYBgQGTyxXH",
        "outputId": "c4cb0441-c6dd-45cb-a4e7-fbb9766d3d4c"
      },
      "execution_count": 9,
      "outputs": [
        {
          "output_type": "execute_result",
          "data": {
            "text/plain": [
              "206"
            ]
          },
          "metadata": {},
          "execution_count": 9
        }
      ]
    },
    {
      "cell_type": "markdown",
      "source": [
        "Now We have to check whether these two distributions are same or not. Using Z-test, we can check whether the means of these two distributions are same or not."
      ],
      "metadata": {
        "id": "SKOH_kg5ojJ6"
      }
    },
    {
      "cell_type": "markdown",
      "source": [
        "Null Hypothesis Ho : The two smaples follow similar distribution. uo = u1.\n",
        "Alternate Hypothesis H1 : The two samples follow differean distributions. uo != u1.\n",
        "\n",
        "![WhatsApp Image 2022-04-18 at 4.39.10 PM.jpeg](data:image/jpeg;base64,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)"
      ],
      "metadata": {
        "id": "9Z-wQCpxoqz-"
      }
    },
    {
      "cell_type": "code",
      "source": [
        "mean_warm,var_warm = np.mean(warm_data),np.var(warm_data)\n",
        "mean_cold,var_cold = np.mean(cold_data),np.var(cold_data)\n",
        "n,m=len(warm_data),len(cold_data)"
      ],
      "metadata": {
        "id": "zGaCMqetoqOf"
      },
      "execution_count": 10,
      "outputs": []
    },
    {
      "cell_type": "code",
      "source": [
        "Z = (mean_warm - mean_cold)/(((var_warm/n)+(var_cold/m))**0.5)\n",
        "Z"
      ],
      "metadata": {
        "colab": {
          "base_uri": "https://localhost:8080/"
        },
        "id": "q7dAawLCqoum",
        "outputId": "2361e8d7-3abf-4aa0-c0fa-02089ab91ded"
      },
      "execution_count": 11,
      "outputs": [
        {
          "output_type": "execute_result",
          "data": {
            "text/plain": [
              "0.9008184682299488"
            ]
          },
          "metadata": {},
          "execution_count": 11
        }
      ]
    },
    {
      "cell_type": "markdown",
      "source": [
        "Z follows normal distribution."
      ],
      "metadata": {
        "id": "_g9AcZnMrM0p"
      }
    },
    {
      "cell_type": "code",
      "source": [
        "import scipy.stats as st\n",
        "alpha = 0.05\n",
        "if abs(Z)>st.norm.ppf(1-(alpha/2)):\n",
        "  null_hypothesis = False\n",
        "else:\n",
        "  null_hypothesis = True\n",
        "null_hypothesis"
      ],
      "metadata": {
        "colab": {
          "base_uri": "https://localhost:8080/"
        },
        "id": "6f3C1I9NrBac",
        "outputId": "bd0b6155-28df-4f47-af80-c2514110f7c6"
      },
      "execution_count": 12,
      "outputs": [
        {
          "output_type": "execute_result",
          "data": {
            "text/plain": [
              "True"
            ]
          },
          "metadata": {},
          "execution_count": 12
        }
      ]
    },
    {
      "cell_type": "markdown",
      "source": [
        "p_value = 2(1-phi(Z))\n",
        "From Z lookup table, p_value = **0.36**"
      ],
      "metadata": {
        "id": "QbT3sK30cxzI"
      }
    },
    {
      "cell_type": "markdown",
      "source": [
        "So, the null hypothesis is Accepted. \n",
        "Temperature does not effect the covid - 19 outbreak."
      ],
      "metadata": {
        "id": "jzVFHJyrtDk2"
      }
    },
    {
      "cell_type": "markdown",
      "source": [
        "# 6-B"
      ],
      "metadata": {
        "id": "VmCKvlaTv5LL"
      }
    },
    {
      "cell_type": "code",
      "source": [
        "humid_data=[i for i in data.loc[data[\"Humidity\"]>=65][[\"Confirmed\"]][\"Confirmed\"]]\n",
        "non_humid_data = cold_data=[i for i in data.loc[data[\"Humidity\"]<65][[\"Confirmed\"]][\"Confirmed\"]]"
      ],
      "metadata": {
        "id": "x55lIMd8v6PJ"
      },
      "execution_count": 13,
      "outputs": []
    },
    {
      "cell_type": "code",
      "source": [
        "len(humid_data)+len(non_humid_data)==len(data)"
      ],
      "metadata": {
        "colab": {
          "base_uri": "https://localhost:8080/"
        },
        "id": "-vIuTelVwMSZ",
        "outputId": "d0bace12-db6e-4662-da51-c74ef3a3ba2f"
      },
      "execution_count": 14,
      "outputs": [
        {
          "output_type": "execute_result",
          "data": {
            "text/plain": [
              "True"
            ]
          },
          "metadata": {},
          "execution_count": 14
        }
      ]
    },
    {
      "cell_type": "markdown",
      "source": [
        "Now We have to check whether these two distributions are same or not. Using Z-test, we can check whether the means of these two distributions are same or not.\n",
        "\n",
        "Null Hypothesis Ho : The two smaples follow similar distribution. uo = u1.\n",
        "Alternate Hypothesis H1 : The two samples follow differean distributions. uo != u1.\n",
        "![WhatsApp Image 2022-04-18 at 4.39.10 PM.jpeg](data:image/jpeg;base64,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)"
      ],
      "metadata": {
        "id": "5FDPLbaLwYbf"
      }
    },
    {
      "cell_type": "code",
      "source": [
        "mean_humid,var_humid = np.mean(humid_data),np.var(humid_data)\n",
        "mean_non_humid,var_non_humid = np.mean(non_humid_data),np.var(non_humid_data)\n",
        "n,m=len(humid_data),len(non_humid_data)"
      ],
      "metadata": {
        "id": "UyGDNM2lwUCI"
      },
      "execution_count": 15,
      "outputs": []
    },
    {
      "cell_type": "code",
      "source": [
        "Z = (mean_humid - mean_non_humid)/(((var_humid/n)+(var_non_humid/m))**0.5)\n",
        "Z"
      ],
      "metadata": {
        "colab": {
          "base_uri": "https://localhost:8080/"
        },
        "id": "HHT4x9VfxLC5",
        "outputId": "dbfb76f6-03fb-4122-be9e-1fe0ccd31af5"
      },
      "execution_count": 16,
      "outputs": [
        {
          "output_type": "execute_result",
          "data": {
            "text/plain": [
              "0.26384394390208055"
            ]
          },
          "metadata": {},
          "execution_count": 16
        }
      ]
    },
    {
      "cell_type": "code",
      "source": [
        "alpha = 0.05\n",
        "if abs(Z)>st.norm.ppf(1-(alpha/2)):\n",
        "  null_hypothesis = False\n",
        "else:\n",
        "  null_hypothesis = True\n",
        "null_hypothesis"
      ],
      "metadata": {
        "colab": {
          "base_uri": "https://localhost:8080/"
        },
        "id": "ZthYsPINxWQ4",
        "outputId": "f4cebba1-1a89-4ce4-caa7-8aa0c118e719"
      },
      "execution_count": 17,
      "outputs": [
        {
          "output_type": "execute_result",
          "data": {
            "text/plain": [
              "True"
            ]
          },
          "metadata": {},
          "execution_count": 17
        }
      ]
    },
    {
      "cell_type": "markdown",
      "source": [
        "p_value = 2(1-phi(Z))\n",
        "From Z lookup table, p_value = **0.8**"
      ],
      "metadata": {
        "id": "NVFefaXTdIQF"
      }
    },
    {
      "cell_type": "markdown",
      "source": [
        "So, the null hypothesis is Accepted. \n",
        "Humidity does not effect the covid - 19 outbreak."
      ],
      "metadata": {
        "id": "bV0LyCIsxyIR"
      }
    },
    {
      "cell_type": "markdown",
      "source": [
        "# 6-C"
      ],
      "metadata": {
        "id": "8moRk-42x0GT"
      }
    },
    {
      "cell_type": "markdown",
      "source": [
        "Null Hypothesis Ho : The two smaples follow similar distribution. uo = u1.\n",
        "Alternate Hypothesis H1 : The two samples follow differean distributions. uo != u1.\n",
        "\n",
        "![WhatsApp Image 2022-04-18 at 4.25.42 PM.jpeg](data:image/jpeg;base64,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)"
      ],
      "metadata": {
        "id": "iF-Y_R1WpgLV"
      }
    },
    {
      "cell_type": "code",
      "source": [
        "from itertools import permutations\n",
        "import random"
      ],
      "metadata": {
        "id": "XrRpq8WHx03g"
      },
      "execution_count": 18,
      "outputs": []
    },
    {
      "cell_type": "code",
      "source": [
        "data=pd.read_csv(\"/content/a5_q6.csv\")"
      ],
      "metadata": {
        "id": "iL85_OLC62JZ"
      },
      "execution_count": 19,
      "outputs": []
    },
    {
      "cell_type": "code",
      "source": [
        "warm_data=[i for i in data.loc[data[\"Temprature\"]>12][[\"Confirmed\"]][\"Confirmed\"]]\n",
        "cold_data=[i for i in data.loc[data[\"Temprature\"]<=12][[\"Confirmed\"]][\"Confirmed\"]]"
      ],
      "metadata": {
        "id": "BIgbzYaE0b4m"
      },
      "execution_count": 20,
      "outputs": []
    },
    {
      "cell_type": "code",
      "source": [
        "data=[i for i in data[\"Confirmed\"]]"
      ],
      "metadata": {
        "id": "m8hRNUZj0vYB"
      },
      "execution_count": 21,
      "outputs": []
    },
    {
      "cell_type": "code",
      "source": [
        "len(warm_data)+len(cold_data)==len(data)"
      ],
      "metadata": {
        "colab": {
          "base_uri": "https://localhost:8080/"
        },
        "id": "Clncpsx100dn",
        "outputId": "572ccaa1-4265-4991-e213-302909ef09f6"
      },
      "execution_count": 22,
      "outputs": [
        {
          "output_type": "execute_result",
          "data": {
            "text/plain": [
              "True"
            ]
          },
          "metadata": {},
          "execution_count": 22
        }
      ]
    },
    {
      "cell_type": "code",
      "source": [
        "a,b=len(warm_data),len(cold_data)"
      ],
      "metadata": {
        "id": "lo5jkfYq4xOw"
      },
      "execution_count": 23,
      "outputs": []
    },
    {
      "cell_type": "code",
      "source": [
        "def generate_data(l,a,b,T_obs):\n",
        "  def find_xmean(row):\n",
        "    return sum(row[\"X\"])/len(row[\"X\"])\n",
        "  def find_ymean(row):\n",
        "    return sum(row[\"Y\"])/len(row[\"Y\"])\n",
        "  def finddiff(row):\n",
        "    return round(abs(row[\"X_mean\"]-row[\"Y_mean\"]),2)\n",
        "  def solve(row):\n",
        "    return 1 if row[\"T = |X_mean - Y_mean |\"] > T_obs else 0\n",
        "  n=len(l)\n",
        "  X,Y=[],[]\n",
        "  for i in range(n):\n",
        "    X.append(l[i][:a])\n",
        "    Y.append(l[i][a:])\n",
        "  data=pd.DataFrame()\n",
        "  \n",
        "  data[\"X\"],data[\"Y\"]=X,Y\n",
        "  data[\"X_mean\"] = data.apply(find_xmean, axis = 1)\n",
        "  data[\"Y_mean\"] = data.apply(find_ymean, axis = 1)\n",
        "  data[\"T = |X_mean - Y_mean |\"] = data.apply(finddiff,axis = 1)\n",
        "  data[\"I (T > T_obs)\"] = data.apply(solve,axis = 1)\n",
        "  return data"
      ],
      "metadata": {
        "id": "-HdyF7j3fZyR"
      },
      "execution_count": 24,
      "outputs": []
    },
    {
      "cell_type": "code",
      "source": [
        "def perm_generator(seq):\n",
        "    seen = set()\n",
        "    length = len(seq)\n",
        "    while True:\n",
        "        perm = tuple(random.sample(seq, length))\n",
        "        if perm not in seen:\n",
        "            seen.add(perm)\n",
        "            yield perm"
      ],
      "metadata": {
        "id": "l9kdIE103zYa"
      },
      "execution_count": 25,
      "outputs": []
    },
    {
      "cell_type": "code",
      "source": [
        "def p_value(data):\n",
        "  return data.iloc[:,-1].sum()/len(data)"
      ],
      "metadata": {
        "id": "bkqWFQDae-3E"
      },
      "execution_count": 26,
      "outputs": []
    },
    {
      "cell_type": "code",
      "source": [
        "def get_p_value(n):\n",
        "  rand_perms = perm_generator(data)\n",
        "  permlist= [next(rand_perms) for _ in range(n)]\n",
        "  permlist=list(map(list,permlist))\n",
        "  T_obs = abs(np.mean(warm_data)-np.mean(cold_data))\n",
        "  data1=generate_data(permlist,a,b,T_obs)\n",
        "  return p_value(data1)"
      ],
      "metadata": {
        "id": "1imxk7nj1COT"
      },
      "execution_count": 27,
      "outputs": []
    },
    {
      "cell_type": "markdown",
      "source": [
        "For n = 500"
      ],
      "metadata": {
        "id": "ntRFPip3fhO0"
      }
    },
    {
      "cell_type": "code",
      "source": [
        "p=get_p_value(500)\n",
        "null_hypothesis = False if p<0.05 else True\n",
        "null_hypothesis"
      ],
      "metadata": {
        "id": "2ddXYxVr4NF_",
        "colab": {
          "base_uri": "https://localhost:8080/"
        },
        "outputId": "60fce194-fa47-43f5-97ae-e17aa1f27131"
      },
      "execution_count": 28,
      "outputs": [
        {
          "output_type": "execute_result",
          "data": {
            "text/plain": [
              "True"
            ]
          },
          "metadata": {},
          "execution_count": 28
        }
      ]
    },
    {
      "cell_type": "markdown",
      "source": [
        "So,the Null Hypothesis is accepted according to the permutation test.\n",
        "Temperature does not effect the covid - 19 outbreak."
      ],
      "metadata": {
        "id": "Mw-1X1YCftCS"
      }
    },
    {
      "cell_type": "markdown",
      "source": [
        "For n = 1000"
      ],
      "metadata": {
        "id": "U3TMGgbXfxOR"
      }
    },
    {
      "cell_type": "code",
      "source": [
        "p=get_p_value(1000)\n",
        "null_hypothesis = False if p<0.05 else True\n",
        "null_hypothesis"
      ],
      "metadata": {
        "id": "KRowovLX4NJX",
        "colab": {
          "base_uri": "https://localhost:8080/"
        },
        "outputId": "904f42aa-0e17-4e9a-cd29-5f11cc143195"
      },
      "execution_count": 29,
      "outputs": [
        {
          "output_type": "execute_result",
          "data": {
            "text/plain": [
              "True"
            ]
          },
          "metadata": {},
          "execution_count": 29
        }
      ]
    },
    {
      "cell_type": "markdown",
      "source": [
        "So,the Null Hypothesis is accepted according to the permutation test.\n",
        "Temperature does not effect the covid - 19 outbreak."
      ],
      "metadata": {
        "id": "PuLmFkNPf2a1"
      }
    },
    {
      "cell_type": "markdown",
      "source": [
        "# 6-D"
      ],
      "metadata": {
        "id": "Hmv1DrJzf5cU"
      }
    },
    {
      "cell_type": "markdown",
      "source": [
        "Null Hypothesis Ho : The two smaples follow similar distribution. uo = u1.\n",
        "Alternate Hypothesis H1 : The two samples follow differean distributions. uo != u1.\n",
        "\n",
        "![WhatsApp Image 2022-04-18 at 4.25.42 PM.jpeg](data:image/jpeg;base64,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)"
      ],
      "metadata": {
        "id": "F00M_GHEpm4y"
      }
    },
    {
      "cell_type": "code",
      "source": [
        "data=pd.read_csv(\"/content/a5_q6.csv\")"
      ],
      "metadata": {
        "id": "zjTBFh2mf6Ui"
      },
      "execution_count": 30,
      "outputs": []
    },
    {
      "cell_type": "code",
      "source": [
        "humid_data=[i for i in data.loc[data[\"Humidity\"]>=65][[\"Confirmed\"]][\"Confirmed\"]]\n",
        "non_humid_data = cold_data=[i for i in data.loc[data[\"Humidity\"]<65][[\"Confirmed\"]][\"Confirmed\"]]"
      ],
      "metadata": {
        "id": "qeoAiP8gf95P"
      },
      "execution_count": 31,
      "outputs": []
    },
    {
      "cell_type": "code",
      "source": [
        "data=[i for i in data[\"Confirmed\"]]"
      ],
      "metadata": {
        "id": "DG194MCOgArq"
      },
      "execution_count": 32,
      "outputs": []
    },
    {
      "cell_type": "code",
      "source": [
        "a,b=len(humid_data),len(non_humid_data)"
      ],
      "metadata": {
        "id": "w9bvJmATgEsX"
      },
      "execution_count": 33,
      "outputs": []
    },
    {
      "cell_type": "code",
      "source": [
        "def get_p_value(n):\n",
        "  rand_perms = perm_generator(data)\n",
        "  permlist= [next(rand_perms) for _ in range(n)]\n",
        "  permlist=list(map(list,permlist))\n",
        "  T_obs = abs(np.mean(humid_data)-np.mean(non_humid_data))\n",
        "  data1=generate_data(permlist,a,b,T_obs)\n",
        "  return p_value(data1)"
      ],
      "metadata": {
        "id": "i5Qyqj_NgKiV"
      },
      "execution_count": 34,
      "outputs": []
    },
    {
      "cell_type": "markdown",
      "source": [
        "For n = 500"
      ],
      "metadata": {
        "id": "K7SUTqxYhGGi"
      }
    },
    {
      "cell_type": "code",
      "source": [
        "p=get_p_value(500)\n",
        "print(\"p_value =\",p)\n",
        "null_hypothesis = False if p<0.05 else True\n",
        "null_hypothesis"
      ],
      "metadata": {
        "colab": {
          "base_uri": "https://localhost:8080/"
        },
        "outputId": "56180557-33a8-4eb5-b44c-b8cbde72e692",
        "id": "enIa04vThGGj"
      },
      "execution_count": 35,
      "outputs": [
        {
          "output_type": "stream",
          "name": "stdout",
          "text": [
            "p_value = 0.992\n"
          ]
        },
        {
          "output_type": "execute_result",
          "data": {
            "text/plain": [
              "True"
            ]
          },
          "metadata": {},
          "execution_count": 35
        }
      ]
    },
    {
      "cell_type": "markdown",
      "source": [
        "So,the Null Hypothesis is accepted according to the permutation test.\n",
        "Humidity does not effect the covid - 19 outbreak."
      ],
      "metadata": {
        "id": "AFwRfIa1hGGj"
      }
    },
    {
      "cell_type": "markdown",
      "source": [
        "For n = 1000"
      ],
      "metadata": {
        "id": "Gnsii39XhGGj"
      }
    },
    {
      "cell_type": "code",
      "source": [
        "p=get_p_value(1000)\n",
        "null_hypothesis = False if p<0.05 else True\n",
        "null_hypothesis"
      ],
      "metadata": {
        "colab": {
          "base_uri": "https://localhost:8080/"
        },
        "outputId": "31a1eaca-d6c4-435a-8c5b-53c4ffccddc5",
        "id": "Uv5dILejhGGj"
      },
      "execution_count": 36,
      "outputs": [
        {
          "output_type": "execute_result",
          "data": {
            "text/plain": [
              "True"
            ]
          },
          "metadata": {},
          "execution_count": 36
        }
      ]
    },
    {
      "cell_type": "markdown",
      "source": [
        "So,the Null Hypothesis is accepted according to the permutation test.\n",
        "Humidity does not effect the covid - 19 outbreak."
      ],
      "metadata": {
        "id": "AJBpSIGyhGGk"
      }
    }
  ]
}